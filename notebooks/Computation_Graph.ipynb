{
  "nbformat": 4,
  "nbformat_minor": 0,
  "metadata": {
    "colab": {
      "name": "Computation Graph.ipynb",
      "version": "0.3.2",
      "provenance": [],
      "collapsed_sections": [],
      "include_colab_link": true
    },
    "kernelspec": {
      "name": "python3",
      "display_name": "Python 3"
    },
    "accelerator": "GPU"
  },
  "cells": [
    {
      "cell_type": "markdown",
      "metadata": {
        "id": "view-in-github",
        "colab_type": "text"
      },
      "source": [
        "<a href=\"https://colab.research.google.com/github/TarunSunkaraneni/CS6956/blob/master/Computation_Graph.ipynb\" target=\"_parent\"><img src=\"https://colab.research.google.com/assets/colab-badge.svg\" alt=\"Open In Colab\"/></a>"
      ]
    },
    {
      "metadata": {
        "id": "SfPMP-PDQRql",
        "colab_type": "code",
        "colab": {}
      },
      "cell_type": "code",
      "source": [
        "import tensorflow as tf\n",
        "import numpy as np"
      ],
      "execution_count": 0,
      "outputs": []
    },
    {
      "metadata": {
        "id": "cjYCa0bWSfmk",
        "colab_type": "text"
      },
      "cell_type": "markdown",
      "source": [
        "Computation graph for $x+1$"
      ]
    },
    {
      "metadata": {
        "id": "ne6v3ndWRjid",
        "colab_type": "code",
        "colab": {}
      },
      "cell_type": "code",
      "source": [
        "x = tf.placeholder(dtype=tf.float32, shape=[1])\n",
        "plus = x + 1"
      ],
      "execution_count": 0,
      "outputs": []
    },
    {
      "metadata": {
        "id": "jwegJS0FSYBL",
        "colab_type": "code",
        "colab": {
          "base_uri": "https://localhost:8080/",
          "height": 51
        },
        "outputId": "b35ce852-216a-4650-e905-d43220ab264c"
      },
      "cell_type": "code",
      "source": [
        "print(x)\n",
        "print(plus)"
      ],
      "execution_count": 8,
      "outputs": [
        {
          "output_type": "stream",
          "text": [
            "Tensor(\"Placeholder_1:0\", shape=(1,), dtype=float32)\n",
            "Tensor(\"add_1:0\", shape=(1,), dtype=float32)\n"
          ],
          "name": "stdout"
        }
      ]
    },
    {
      "metadata": {
        "id": "-mBJbwaMSdU6",
        "colab_type": "code",
        "colab": {
          "base_uri": "https://localhost:8080/",
          "height": 34
        },
        "outputId": "cdc4b9a1-266a-4b57-9840-b7b2bf69f60c"
      },
      "cell_type": "code",
      "source": [
        "with tf.Session() as sess:\n",
        "  output = sess.run(plus, feed_dict={x: [1]})\n",
        "  print(output)"
      ],
      "execution_count": 12,
      "outputs": [
        {
          "output_type": "stream",
          "text": [
            "[2.]\n"
          ],
          "name": "stdout"
        }
      ]
    },
    {
      "metadata": {
        "id": "ecOW2aWZUf7W",
        "colab_type": "text"
      },
      "cell_type": "markdown",
      "source": [
        "Computation graph for $$g(x,y) = xy + log(x+y) + x^2$$"
      ]
    },
    {
      "metadata": {
        "id": "d-AxZErFUmX9",
        "colab_type": "code",
        "colab": {}
      },
      "cell_type": "code",
      "source": [
        "x = tf.placeholder(dtype= tf.float32)\n",
        "y = tf.placeholder(dtype= tf.float32)"
      ],
      "execution_count": 0,
      "outputs": []
    },
    {
      "metadata": {
        "id": "YBE5yd0iUxTb",
        "colab_type": "code",
        "colab": {
          "base_uri": "https://localhost:8080/",
          "height": 34
        },
        "outputId": "a728f46b-e08d-4e32-f2ea-bdf59355c716"
      },
      "cell_type": "code",
      "source": [
        "g = x * y + tf.log(x + y) + x **2\n",
        "g"
      ],
      "execution_count": 16,
      "outputs": [
        {
          "output_type": "execute_result",
          "data": {
            "text/plain": [
              "<tf.Tensor 'add_7:0' shape=<unknown> dtype=float32>"
            ]
          },
          "metadata": {
            "tags": []
          },
          "execution_count": 16
        }
      ]
    },
    {
      "metadata": {
        "id": "QkCwAALqU4iB",
        "colab_type": "code",
        "colab": {
          "base_uri": "https://localhost:8080/",
          "height": 34
        },
        "outputId": "39afd5d1-73d5-4989-e9aa-f248ebb6c8c8"
      },
      "cell_type": "code",
      "source": [
        "with tf.Session() as session:\n",
        "  x_val = np.array([1, 5, 30])\n",
        "  y_val = np.array([10, 4, 6])\n",
        "  output = session.run(g, feed_dict= {x: x_val, y: y_val})\n",
        "  print(output)"
      ],
      "execution_count": 22,
      "outputs": [
        {
          "output_type": "stream",
          "text": [
            "[  13.397896   47.197224 1083.5835  ]\n"
          ],
          "name": "stdout"
        }
      ]
    }
  ]
}